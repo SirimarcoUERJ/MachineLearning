{
  "nbformat": 4,
  "nbformat_minor": 0,
  "metadata": {
    "colab": {
      "provenance": [],
      "authorship_tag": "ABX9TyPYEitYfGaW+xgEfd5slM7X",
      "include_colab_link": true
    },
    "kernelspec": {
      "name": "python3",
      "display_name": "Python 3"
    },
    "language_info": {
      "name": "python"
    }
  },
  "cells": [
    {
      "cell_type": "markdown",
      "metadata": {
        "id": "view-in-github",
        "colab_type": "text"
      },
      "source": [
        "<a href=\"https://colab.research.google.com/github/SirimarcoUERJ/MachineLearning/blob/main/RandomForest_Census.ipynb\" target=\"_parent\"><img src=\"https://colab.research.google.com/assets/colab-badge.svg\" alt=\"Open In Colab\"/></a>"
      ]
    },
    {
      "cell_type": "markdown",
      "source": [
        "# **Ramdom Forest na Basa do Census**"
      ],
      "metadata": {
        "id": "Ax0vNtIrFjZf"
      }
    },
    {
      "cell_type": "code",
      "execution_count": 18,
      "metadata": {
        "id": "KRlSyd0NFNSu"
      },
      "outputs": [],
      "source": [
        "from google.colab import drive\n",
        "import pickle as pkl\n",
        "from sklearn.ensemble import RandomForestClassifier\n",
        "from sklearn.metrics import accuracy_score, classification_report\n",
        "from yellowbrick.classifier import ConfusionMatrix"
      ]
    },
    {
      "cell_type": "code",
      "source": [
        "drive.mount('/content/drive')"
      ],
      "metadata": {
        "colab": {
          "base_uri": "https://localhost:8080/"
        },
        "id": "MTZ69ved6bB4",
        "outputId": "b7c2346a-4521-45a8-f884-946b0d0cc8ff"
      },
      "execution_count": 19,
      "outputs": [
        {
          "output_type": "stream",
          "name": "stdout",
          "text": [
            "Drive already mounted at /content/drive; to attempt to forcibly remount, call drive.mount(\"/content/drive\", force_remount=True).\n"
          ]
        }
      ]
    },
    {
      "cell_type": "code",
      "source": [
        "arq = \"/content/drive/MyDrive/Colab Notebooks/Machine Learn/data/census.pkl\"\n",
        "with open(arq, \"rb\") as f:\n",
        "  x_treino, y_treino, x_teste, y_teste = pkl.load(f)"
      ],
      "metadata": {
        "id": "0dVmTA-c6f8Q"
      },
      "execution_count": 20,
      "outputs": []
    },
    {
      "cell_type": "code",
      "source": [
        "x_treino.shape, y_treino.shape, x_teste.shape, y_teste.shape"
      ],
      "metadata": {
        "colab": {
          "base_uri": "https://localhost:8080/"
        },
        "id": "IS7t2bOm6ziN",
        "outputId": "38a9a9b6-c403-491e-8110-b7eba4788c10"
      },
      "execution_count": 21,
      "outputs": [
        {
          "output_type": "execute_result",
          "data": {
            "text/plain": [
              "((27676, 108), (27676,), (4885, 108), (4885,))"
            ]
          },
          "metadata": {},
          "execution_count": 21
        }
      ]
    },
    {
      "cell_type": "code",
      "source": [
        "random_forest_census = RandomForestClassifier(n_estimators=100 ,criterion=\"entropy\", random_state=0)\n",
        "random_forest_census.fit(x_treino, y_treino)\n",
        "\n",
        "previsoes = random_forest_census.predict(x_teste)\n",
        "previsoes"
      ],
      "metadata": {
        "id": "dx2Nfr8S70du",
        "colab": {
          "base_uri": "https://localhost:8080/"
        },
        "outputId": "01e2eceb-c13b-4fb4-ab09-5852f9daeb36"
      },
      "execution_count": 42,
      "outputs": [
        {
          "output_type": "execute_result",
          "data": {
            "text/plain": [
              "array([' <=50K', ' <=50K', ' <=50K', ..., ' <=50K', ' <=50K', ' >50K'],\n",
              "      dtype=object)"
            ]
          },
          "metadata": {},
          "execution_count": 42
        }
      ]
    },
    {
      "cell_type": "code",
      "source": [
        "y_teste"
      ],
      "metadata": {
        "colab": {
          "base_uri": "https://localhost:8080/"
        },
        "id": "KL5lFxsT-H8_",
        "outputId": "2c705449-90f6-472b-8f01-b0dee1b394fd"
      },
      "execution_count": 43,
      "outputs": [
        {
          "output_type": "execute_result",
          "data": {
            "text/plain": [
              "array([' <=50K', ' <=50K', ' <=50K', ..., ' <=50K', ' <=50K', ' <=50K'],\n",
              "      dtype=object)"
            ]
          },
          "metadata": {},
          "execution_count": 43
        }
      ]
    },
    {
      "cell_type": "code",
      "source": [
        "accuracy_score(y_teste, previsoes)"
      ],
      "metadata": {
        "colab": {
          "base_uri": "https://localhost:8080/"
        },
        "id": "CXwPLkqr-t2l",
        "outputId": "93b83f54-cf0d-4ab5-f957-d01da71dbd7f"
      },
      "execution_count": 44,
      "outputs": [
        {
          "output_type": "execute_result",
          "data": {
            "text/plain": [
              "0.8507676560900717"
            ]
          },
          "metadata": {},
          "execution_count": 44
        }
      ]
    },
    {
      "cell_type": "code",
      "source": [
        "cm = ConfusionMatrix(random_forest_census)\n",
        "cm.fit(x_treino, y_treino)\n",
        "\n",
        "cm.score(x_teste,y_teste)"
      ],
      "metadata": {
        "colab": {
          "base_uri": "https://localhost:8080/",
          "height": 394
        },
        "id": "vAAY8U7_-zMQ",
        "outputId": "4757644d-602c-49f4-fac0-9ec4bae66762"
      },
      "execution_count": 45,
      "outputs": [
        {
          "output_type": "execute_result",
          "data": {
            "text/plain": [
              "0.8507676560900717"
            ]
          },
          "metadata": {},
          "execution_count": 45
        },
        {
          "output_type": "display_data",
          "data": {
            "text/plain": [
              "<Figure size 576x396 with 1 Axes>"
            ],
            "image/png": "[encoded data removed]"
          },
          "metadata": {}
        }
      ]
    },
    {
      "cell_type": "code",
      "source": [
        "print(classification_report(y_teste, previsoes))"
      ],
      "metadata": {
        "colab": {
          "base_uri": "https://localhost:8080/"
        },
        "id": "KZg40uyP_I8H",
        "outputId": "4e3d845c-ad07-415f-a4a7-ef4d6b46847e"
      },
      "execution_count": 46,
      "outputs": [
        {
          "output_type": "stream",
          "name": "stdout",
          "text": [
            "              precision    recall  f1-score   support\n",
            "\n",
            "       <=50K       0.88      0.93      0.90      3693\n",
            "        >50K       0.73      0.62      0.67      1192\n",
            "\n",
            "    accuracy                           0.85      4885\n",
            "   macro avg       0.81      0.77      0.79      4885\n",
            "weighted avg       0.85      0.85      0.85      4885\n",
            "\n"
          ]
        }
      ]
    }
  ]
}