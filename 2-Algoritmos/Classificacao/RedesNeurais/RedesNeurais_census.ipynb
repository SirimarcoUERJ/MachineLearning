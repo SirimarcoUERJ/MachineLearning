{
  "nbformat": 4,
  "nbformat_minor": 0,
  "metadata": {
    "colab": {
      "provenance": [],
      "authorship_tag": "ABX9TyPTOZmjdx3o/XbXwE+I9uIJ",
      "include_colab_link": true
    },
    "kernelspec": {
      "name": "python3",
      "display_name": "Python 3"
    },
    "language_info": {
      "name": "python"
    }
  },
  "cells": [
    {
      "cell_type": "markdown",
      "metadata": {
        "id": "view-in-github",
        "colab_type": "text"
      },
      "source": [
        "<a href=\"https://colab.research.google.com/github/SirimarcoUERJ/MachineLearning/blob/main/RedesNeurais_census.ipynb\" target=\"_parent\"><img src=\"https://colab.research.google.com/assets/colab-badge.svg\" alt=\"Open In Colab\"/></a>"
      ]
    },
    {
      "cell_type": "markdown",
      "source": [
        "# **Redes Neurais Artificiais aplicadas na base de dados do Census.**"
      ],
      "metadata": {
        "id": "SCN-l-N_Sefb"
      }
    },
    {
      "cell_type": "code",
      "execution_count": 1,
      "metadata": {
        "id": "i73EEo6-SXjV"
      },
      "outputs": [],
      "source": [
        "from google.colab import drive\n",
        "import pickle as pkl\n",
        "from sklearn.metrics import accuracy_score, classification_report\n",
        "from yellowbrick.classifier import ConfusionMatrix\n",
        "from sklearn.neural_network import MLPClassifier"
      ]
    },
    {
      "cell_type": "code",
      "source": [
        "drive.mount('/content/drive')"
      ],
      "metadata": {
        "colab": {
          "base_uri": "https://localhost:8080/"
        },
        "id": "maOBnTmpTFmp",
        "outputId": "bc8f4fe8-452a-4f0a-8715-ede775c3799a"
      },
      "execution_count": 2,
      "outputs": [
        {
          "output_type": "stream",
          "name": "stdout",
          "text": [
            "Mounted at /content/drive\n"
          ]
        }
      ]
    },
    {
      "cell_type": "code",
      "source": [
        "arq = \"/content/drive/MyDrive/Colab Notebooks/Machine Learn/data/census.pkl\"\n",
        "with open(arq, \"rb\") as f:\n",
        "  x_treino, y_treino, x_teste, y_teste = pkl.load(f)"
      ],
      "metadata": {
        "id": "6hWBb_otTJTX"
      },
      "execution_count": 3,
      "outputs": []
    },
    {
      "cell_type": "code",
      "source": [
        "x_treino.shape, y_treino.shape, x_teste.shape, y_teste.shape"
      ],
      "metadata": {
        "colab": {
          "base_uri": "https://localhost:8080/"
        },
        "id": "wmRd4yAwTT2C",
        "outputId": "c26156fd-2b67-4d18-a9c4-5f2eeba050aa"
      },
      "execution_count": 4,
      "outputs": [
        {
          "output_type": "execute_result",
          "data": {
            "text/plain": [
              "((27676, 108), (27676,), (4885, 108), (4885,))"
            ]
          },
          "metadata": {},
          "execution_count": 4
        }
      ]
    },
    {
      "cell_type": "code",
      "source": [
        "rn_census = MLPClassifier(max_iter=5000 verbose=True, hidden_layer_sizes=(55))\n",
        "rn_census.fit(x_treino, y_treino)\n",
        "\n",
        "previsoes = rn_census.predict(x_teste)"
      ],
      "metadata": {
        "colab": {
          "base_uri": "https://localhost:8080/"
        },
        "id": "f-ykexc4TdNR",
        "outputId": "ee2a2e62-c23f-4aa6-fc76-d03444f966e4"
      },
      "execution_count": 5,
      "outputs": [
        {
          "output_type": "stream",
          "name": "stdout",
          "text": [
            "Iteration 1, loss = 0.39018141\n",
            "Iteration 2, loss = 0.32941666\n",
            "Iteration 3, loss = 0.31885587\n",
            "Iteration 4, loss = 0.31226765\n",
            "Iteration 5, loss = 0.30715299\n",
            "Iteration 6, loss = 0.30376755\n",
            "Iteration 7, loss = 0.30080100\n",
            "Iteration 8, loss = 0.29871764\n",
            "Iteration 9, loss = 0.29727710\n",
            "Iteration 10, loss = 0.29514044\n",
            "Iteration 11, loss = 0.29342549\n",
            "Iteration 12, loss = 0.29201250\n",
            "Iteration 13, loss = 0.29112534\n",
            "Iteration 14, loss = 0.28943846\n",
            "Iteration 15, loss = 0.28835726\n",
            "Iteration 16, loss = 0.28722849\n",
            "Iteration 17, loss = 0.28689473\n",
            "Iteration 18, loss = 0.28527205\n",
            "Iteration 19, loss = 0.28452896\n",
            "Iteration 20, loss = 0.28385567\n",
            "Iteration 21, loss = 0.28287492\n",
            "Iteration 22, loss = 0.28213090\n",
            "Iteration 23, loss = 0.28156507\n",
            "Iteration 24, loss = 0.28088087\n",
            "Iteration 25, loss = 0.27941066\n",
            "Iteration 26, loss = 0.27972932\n",
            "Iteration 27, loss = 0.27862374\n",
            "Iteration 28, loss = 0.27780621\n",
            "Iteration 29, loss = 0.27753269\n",
            "Iteration 30, loss = 0.27628987\n",
            "Iteration 31, loss = 0.27564682\n",
            "Iteration 32, loss = 0.27550065\n",
            "Iteration 33, loss = 0.27455385\n",
            "Iteration 34, loss = 0.27429668\n",
            "Iteration 35, loss = 0.27391943\n",
            "Iteration 36, loss = 0.27296442\n",
            "Iteration 37, loss = 0.27256621\n",
            "Iteration 38, loss = 0.27219599\n",
            "Iteration 39, loss = 0.27177711\n",
            "Iteration 40, loss = 0.27122811\n",
            "Iteration 41, loss = 0.27066959\n",
            "Iteration 42, loss = 0.26989051\n",
            "Iteration 43, loss = 0.26960926\n",
            "Iteration 44, loss = 0.26878744\n",
            "Iteration 45, loss = 0.26831938\n",
            "Iteration 46, loss = 0.26829868\n",
            "Iteration 47, loss = 0.26769231\n",
            "Iteration 48, loss = 0.26713452\n",
            "Iteration 49, loss = 0.26678306\n",
            "Iteration 50, loss = 0.26694567\n",
            "Iteration 51, loss = 0.26571307\n",
            "Iteration 52, loss = 0.26519188\n",
            "Iteration 53, loss = 0.26494254\n",
            "Iteration 54, loss = 0.26473159\n",
            "Iteration 55, loss = 0.26367118\n",
            "Iteration 56, loss = 0.26292187\n",
            "Iteration 57, loss = 0.26341668\n",
            "Iteration 58, loss = 0.26299433\n",
            "Iteration 59, loss = 0.26238385\n",
            "Iteration 60, loss = 0.26249250\n",
            "Iteration 61, loss = 0.26234194\n",
            "Iteration 62, loss = 0.26154920\n",
            "Iteration 63, loss = 0.26173250\n",
            "Iteration 64, loss = 0.26155558\n",
            "Iteration 65, loss = 0.26027891\n",
            "Iteration 66, loss = 0.26065073\n",
            "Iteration 67, loss = 0.26049008\n",
            "Iteration 68, loss = 0.25955733\n",
            "Iteration 69, loss = 0.25927747\n",
            "Iteration 70, loss = 0.25895695\n",
            "Iteration 71, loss = 0.25804508\n",
            "Iteration 72, loss = 0.25782615\n",
            "Iteration 73, loss = 0.25800364\n",
            "Iteration 74, loss = 0.25739949\n",
            "Iteration 75, loss = 0.25680532\n",
            "Iteration 76, loss = 0.25704271\n",
            "Iteration 77, loss = 0.25661327\n",
            "Iteration 78, loss = 0.25739130\n",
            "Iteration 79, loss = 0.25611986\n",
            "Iteration 80, loss = 0.25586235\n",
            "Iteration 81, loss = 0.25601511\n",
            "Iteration 82, loss = 0.25525554\n",
            "Iteration 83, loss = 0.25522333\n",
            "Iteration 84, loss = 0.25430201\n",
            "Iteration 85, loss = 0.25442645\n",
            "Iteration 86, loss = 0.25402244\n",
            "Iteration 87, loss = 0.25407595\n",
            "Iteration 88, loss = 0.25313238\n",
            "Iteration 89, loss = 0.25366824\n",
            "Iteration 90, loss = 0.25263537\n",
            "Iteration 91, loss = 0.25204295\n",
            "Iteration 92, loss = 0.25246214\n",
            "Iteration 93, loss = 0.25268640\n",
            "Iteration 94, loss = 0.25206922\n",
            "Iteration 95, loss = 0.25203548\n",
            "Iteration 96, loss = 0.25098847\n",
            "Iteration 97, loss = 0.25128661\n",
            "Iteration 98, loss = 0.25062558\n",
            "Iteration 99, loss = 0.25131207\n",
            "Iteration 100, loss = 0.25075529\n",
            "Iteration 101, loss = 0.24989315\n",
            "Iteration 102, loss = 0.24985809\n",
            "Iteration 103, loss = 0.24988208\n",
            "Iteration 104, loss = 0.24873544\n",
            "Iteration 105, loss = 0.24914264\n",
            "Iteration 106, loss = 0.24943209\n",
            "Iteration 107, loss = 0.24916492\n",
            "Iteration 108, loss = 0.24811645\n",
            "Iteration 109, loss = 0.24850586\n",
            "Iteration 110, loss = 0.24809964\n",
            "Iteration 111, loss = 0.24782715\n",
            "Iteration 112, loss = 0.24763761\n",
            "Iteration 113, loss = 0.24763910\n",
            "Iteration 114, loss = 0.24834860\n",
            "Iteration 115, loss = 0.24734900\n",
            "Iteration 116, loss = 0.24682880\n",
            "Iteration 117, loss = 0.24726453\n",
            "Iteration 118, loss = 0.24625443\n",
            "Iteration 119, loss = 0.24712499\n",
            "Iteration 120, loss = 0.24658660\n",
            "Iteration 121, loss = 0.24616653\n",
            "Iteration 122, loss = 0.24539870\n",
            "Iteration 123, loss = 0.24547137\n",
            "Iteration 124, loss = 0.24518851\n",
            "Iteration 125, loss = 0.24481083\n",
            "Iteration 126, loss = 0.24509543\n",
            "Iteration 127, loss = 0.24439354\n",
            "Iteration 128, loss = 0.24464937\n",
            "Iteration 129, loss = 0.24465521\n",
            "Iteration 130, loss = 0.24485697\n",
            "Iteration 131, loss = 0.24529664\n",
            "Iteration 132, loss = 0.24349604\n",
            "Iteration 133, loss = 0.24335662\n",
            "Iteration 134, loss = 0.24287755\n",
            "Iteration 135, loss = 0.24306592\n",
            "Iteration 136, loss = 0.24343540\n",
            "Iteration 137, loss = 0.24312873\n",
            "Iteration 138, loss = 0.24328914\n",
            "Iteration 139, loss = 0.24268560\n",
            "Iteration 140, loss = 0.24234514\n",
            "Iteration 141, loss = 0.24203121\n",
            "Iteration 142, loss = 0.24210878\n",
            "Iteration 143, loss = 0.24225976\n",
            "Iteration 144, loss = 0.24123130\n",
            "Iteration 145, loss = 0.24107022\n",
            "Iteration 146, loss = 0.24165516\n",
            "Iteration 147, loss = 0.24176337\n",
            "Iteration 148, loss = 0.24089523\n",
            "Iteration 149, loss = 0.24118465\n",
            "Iteration 150, loss = 0.24174809\n",
            "Iteration 151, loss = 0.24035615\n",
            "Iteration 152, loss = 0.24142110\n",
            "Iteration 153, loss = 0.24059386\n",
            "Iteration 154, loss = 0.23990666\n",
            "Iteration 155, loss = 0.23993876\n",
            "Iteration 156, loss = 0.23955380\n",
            "Iteration 157, loss = 0.23906774\n",
            "Iteration 158, loss = 0.23900320\n",
            "Iteration 159, loss = 0.23857006\n",
            "Iteration 160, loss = 0.24023084\n",
            "Iteration 161, loss = 0.23897626\n",
            "Iteration 162, loss = 0.23945199\n",
            "Iteration 163, loss = 0.23884123\n",
            "Iteration 164, loss = 0.23865949\n",
            "Iteration 165, loss = 0.23824104\n",
            "Iteration 166, loss = 0.23906456\n",
            "Iteration 167, loss = 0.23837113\n",
            "Iteration 168, loss = 0.23767615\n",
            "Iteration 169, loss = 0.23806797\n",
            "Iteration 170, loss = 0.23863596\n",
            "Iteration 171, loss = 0.23779842\n",
            "Iteration 172, loss = 0.23759535\n",
            "Iteration 173, loss = 0.23807318\n",
            "Iteration 174, loss = 0.23792729\n",
            "Iteration 175, loss = 0.23831353\n",
            "Iteration 176, loss = 0.23741813\n",
            "Iteration 177, loss = 0.23736075\n",
            "Iteration 178, loss = 0.23719264\n",
            "Iteration 179, loss = 0.23691152\n",
            "Iteration 180, loss = 0.23624480\n",
            "Iteration 181, loss = 0.23613603\n",
            "Iteration 182, loss = 0.23641069\n",
            "Iteration 183, loss = 0.23666043\n",
            "Iteration 184, loss = 0.23507710\n",
            "Iteration 185, loss = 0.23565039\n",
            "Iteration 186, loss = 0.23592996\n",
            "Iteration 187, loss = 0.23589693\n",
            "Iteration 188, loss = 0.23666932\n",
            "Iteration 189, loss = 0.23521896\n",
            "Iteration 190, loss = 0.23535435\n",
            "Iteration 191, loss = 0.23536652\n",
            "Iteration 192, loss = 0.23421412\n",
            "Iteration 193, loss = 0.23523639\n",
            "Iteration 194, loss = 0.23422657\n",
            "Iteration 195, loss = 0.23309499\n",
            "Iteration 196, loss = 0.23412419\n",
            "Iteration 197, loss = 0.23462121\n",
            "Iteration 198, loss = 0.23386560\n",
            "Iteration 199, loss = 0.23445592\n",
            "Iteration 200, loss = 0.23337352\n"
          ]
        },
        {
          "output_type": "stream",
          "name": "stderr",
          "text": [
            "/usr/local/lib/python3.8/dist-packages/sklearn/neural_network/_multilayer_perceptron.py:692: ConvergenceWarning: Stochastic Optimizer: Maximum iterations (200) reached and the optimization hasn't converged yet.\n",
            "  warnings.warn(\n"
          ]
        }
      ]
    },
    {
      "cell_type": "code",
      "source": [
        "y_teste"
      ],
      "metadata": {
        "colab": {
          "base_uri": "https://localhost:8080/"
        },
        "id": "wW5NwAloUE0_",
        "outputId": "4fc22cf4-dbd3-4b7d-d74d-b54eafdde27f"
      },
      "execution_count": 6,
      "outputs": [
        {
          "output_type": "execute_result",
          "data": {
            "text/plain": [
              "array([' <=50K', ' <=50K', ' <=50K', ..., ' <=50K', ' <=50K', ' <=50K'],\n",
              "      dtype=object)"
            ]
          },
          "metadata": {},
          "execution_count": 6
        }
      ]
    },
    {
      "cell_type": "code",
      "source": [
        "accuracy_score(y_teste, previsoes)"
      ],
      "metadata": {
        "colab": {
          "base_uri": "https://localhost:8080/"
        },
        "id": "8-RBEmWLUGar",
        "outputId": "ba7fb429-1247-4bd4-ed30-088be232afe7"
      },
      "execution_count": 7,
      "outputs": [
        {
          "output_type": "execute_result",
          "data": {
            "text/plain": [
              "0.8380757420675538"
            ]
          },
          "metadata": {},
          "execution_count": 7
        }
      ]
    },
    {
      "cell_type": "code",
      "source": [
        "cm = ConfusionMatrix(rn_census)\n",
        "cm.fit(x_treino, y_treino)\n",
        "cm.score(x_teste, y_teste)"
      ],
      "metadata": {
        "colab": {
          "base_uri": "https://localhost:8080/",
          "height": 394
        },
        "id": "QuS4CXLsUmAe",
        "outputId": "7e94f110-06fc-4f7e-b888-bc48eb0c1d17"
      },
      "execution_count": 8,
      "outputs": [
        {
          "output_type": "execute_result",
          "data": {
            "text/plain": [
              "0.8380757420675538"
            ]
          },
          "metadata": {},
          "execution_count": 8
        },
        {
          "output_type": "display_data",
          "data": {
            "text/plain": [
              "<Figure size 576x396 with 1 Axes>"
            ],
            "image/png": "[encoded data removed]"
          },
          "metadata": {}
        }
      ]
    },
    {
      "cell_type": "code",
      "source": [
        "print(classification_report(y_teste, previsoes))"
      ],
      "metadata": {
        "colab": {
          "base_uri": "https://localhost:8080/"
        },
        "id": "6OFf2_7vU8ij",
        "outputId": "d27811b7-c135-485a-9628-5319b0051094"
      },
      "execution_count": 10,
      "outputs": [
        {
          "output_type": "stream",
          "name": "stdout",
          "text": [
            "              precision    recall  f1-score   support\n",
            "\n",
            "       <=50K       0.87      0.92      0.90      3693\n",
            "        >50K       0.71      0.58      0.63      1192\n",
            "\n",
            "    accuracy                           0.84      4885\n",
            "   macro avg       0.79      0.75      0.77      4885\n",
            "weighted avg       0.83      0.84      0.83      4885\n",
            "\n"
          ]
        }
      ]
    }
  ]
}